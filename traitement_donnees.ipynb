{
 "cells": [
  {
   "cell_type": "code",
   "execution_count": 1,
   "id": "76f3dc2e",
   "metadata": {},
   "outputs": [
    {
     "name": "stdout",
     "output_type": "stream",
     "text": [
      "Collecting pandas\n",
      "  Using cached pandas-2.2.3-cp312-cp312-manylinux_2_17_x86_64.manylinux2014_x86_64.whl.metadata (89 kB)\n",
      "Collecting numpy>=1.26.0 (from pandas)\n",
      "  Using cached numpy-2.2.5-cp312-cp312-manylinux_2_17_x86_64.manylinux2014_x86_64.whl.metadata (62 kB)\n",
      "Requirement already satisfied: python-dateutil>=2.8.2 in ./.venv/lib/python3.12/site-packages (from pandas) (2.9.0.post0)\n",
      "Collecting pytz>=2020.1 (from pandas)\n",
      "  Using cached pytz-2025.2-py2.py3-none-any.whl.metadata (22 kB)\n",
      "Collecting tzdata>=2022.7 (from pandas)\n",
      "  Using cached tzdata-2025.2-py2.py3-none-any.whl.metadata (1.4 kB)\n",
      "Requirement already satisfied: six>=1.5 in ./.venv/lib/python3.12/site-packages (from python-dateutil>=2.8.2->pandas) (1.17.0)\n",
      "Using cached pandas-2.2.3-cp312-cp312-manylinux_2_17_x86_64.manylinux2014_x86_64.whl (12.7 MB)\n",
      "Using cached numpy-2.2.5-cp312-cp312-manylinux_2_17_x86_64.manylinux2014_x86_64.whl (16.1 MB)\n",
      "Using cached pytz-2025.2-py2.py3-none-any.whl (509 kB)\n",
      "Using cached tzdata-2025.2-py2.py3-none-any.whl (347 kB)\n",
      "Installing collected packages: pytz, tzdata, numpy, pandas\n",
      "\u001b[2K   \u001b[90m━━━━━━━━━━━━━━━━━━━━━━━━━━━━━━━━━━━━━━━━\u001b[0m \u001b[32m4/4\u001b[0m [pandas]2m3/4\u001b[0m [pandas]\n",
      "\u001b[1A\u001b[2KSuccessfully installed numpy-2.2.5 pandas-2.2.3 pytz-2025.2 tzdata-2025.2\n",
      "Note: you may need to restart the kernel to use updated packages.\n"
     ]
    }
   ],
   "source": [
    "%pip install pandas"
   ]
  },
  {
   "cell_type": "code",
   "execution_count": 5,
   "id": "cf2d47e1",
   "metadata": {},
   "outputs": [],
   "source": [
    "import os\n",
    "import csv\n",
    "\n",
    "ART_STYLES = [\n",
    "    \"Baroque\", \"Early_Renaissance\", \"High_Renaissance\",\n",
    "    \"Mannerism_Late_Renaissance\", \"Northern_Renaissance\", \"Rococo\"\n",
    "]\n",
    "\n",
    "def clean(text):\n",
    "    return ' '.join(word.capitalize() for word in text.split('-'))\n",
    "\n",
    "def extract_metadata(filepath):\n",
    "    filename = os.path.basename(filepath)\n",
    "    dirname = os.path.basename(os.path.dirname(filepath))\n",
    "    name = os.path.splitext(filename)[0]  # Supprime .jpg etc.\n",
    "\n",
    "    # Supprime les suffixes -1, (1), etc.\n",
    "    name = name.replace('(', '-').replace(')', '')\n",
    "    while name[-1].isdigit() and name[-2] in ('-', '_'):\n",
    "        name = name.rsplit('-', 1)[0] if '-' in name else name.rsplit('_', 1)[0]\n",
    "\n",
    "    # Séparer artiste et titre\n",
    "    if '_' not in name:\n",
    "        return None\n",
    "    artist_part, title_part = name.split('_', 1)\n",
    "\n",
    "    # Séparer les morceaux du titre\n",
    "    parts = title_part.split('-')\n",
    "\n",
    "    # Vérifie si le dernier bloc est une année\n",
    "    year = ''\n",
    "    if parts and parts[-1].isdigit() and len(parts[-1]) == 4:\n",
    "        year = parts.pop()\n",
    "\n",
    "    title_clean = clean('-'.join(parts))\n",
    "    artist_clean = clean(artist_part)\n",
    "\n",
    "    return {\n",
    "        'style': dirname,\n",
    "        'filename': filename,\n",
    "        'artist': artist_clean,\n",
    "        'title': title_clean,\n",
    "        'year': year\n",
    "    }\n",
    "\n",
    "def scan_images(root_dir, output_csv):\n",
    "    entries = []\n",
    "    for style in ART_STYLES:\n",
    "        style_path = os.path.join(root_dir, style)\n",
    "        if not os.path.isdir(style_path):\n",
    "            continue\n",
    "        for fname in os.listdir(style_path):\n",
    "            if fname.lower().endswith(('.jpg', '.jpeg', '.png')):\n",
    "                full_path = os.path.join(style_path, fname)\n",
    "                meta = extract_metadata(full_path)\n",
    "                if meta:\n",
    "                    entries.append(meta)\n",
    "\n",
    "    with open(output_csv, 'w', newline='', encoding='utf-8') as csvfile:\n",
    "        fieldnames = ['style', 'filename', 'artist', 'title', 'year']\n",
    "        writer = csv.DictWriter(csvfile, fieldnames=fieldnames, delimiter=';')\n",
    "        writer.writeheader()\n",
    "        writer.writerows(entries)\n",
    "\n",
    "    print(f\"✅ CSV généré avec {len(entries)} entrées : {output_csv}\")\n"
   ]
  },
  {
   "cell_type": "code",
   "execution_count": 6,
   "id": "198755d8",
   "metadata": {},
   "outputs": [
    {
     "name": "stdout",
     "output_type": "stream",
     "text": [
      "✅ CSV généré avec 120 entrées : data.csv\n"
     ]
    }
   ],
   "source": [
    "dir_images = os.path.join(os.getcwd(), \"images\")\n",
    "scan_images(dir_images, 'data.csv')"
   ]
  },
  {
   "cell_type": "code",
   "execution_count": 2,
   "id": "42c3f818",
   "metadata": {},
   "outputs": [
    {
     "name": "stdout",
     "output_type": "stream",
     "text": [
      "✅ Fichier sauvegardé avec 120 images chiffrées dans 'data_encrypted.csv'\n"
     ]
    }
   ],
   "source": [
    "import pandas as pd\n",
    "\n",
    "# Chargement du CSV généré précédemment\n",
    "df = pd.read_csv('data.csv', delimiter=';')\n",
    "\n",
    "# Génération des noms chiffrés\n",
    "df['encrypted_name'] = ['image{:05d}.jpg'.format(i + 1) for i in range(len(df))]\n",
    "\n",
    "# Affichage des 5 premiers pour vérification\n",
    "df.head()\n",
    "\n",
    "# Sauvegarde dans un nouveau CSV\n",
    "df.to_csv('data_encrypted.csv', sep=';', index=False)\n",
    "\n",
    "print(f\"✅ Fichier sauvegardé avec {len(df)} images chiffrées dans 'data_encrypted.csv'\")\n"
   ]
  },
  {
   "cell_type": "code",
   "execution_count": 3,
   "id": "70b50231",
   "metadata": {},
   "outputs": [
    {
     "name": "stdout",
     "output_type": "stream",
     "text": [
      "✅ Renommage terminé.\n"
     ]
    }
   ],
   "source": [
    "import os\n",
    "\n",
    "dir_images = os.path.join(os.getcwd(), \"images\")\n",
    "\n",
    "for idx, row in df.iterrows():\n",
    "    old_path = os.path.join(dir_images, row['style'], row['filename'])\n",
    "    new_path = os.path.join(dir_images, row['style'], row['encrypted_name'])\n",
    "    if os.path.exists(old_path):\n",
    "        os.rename(old_path, new_path)\n",
    "    else:\n",
    "        print(f\"⚠️ Fichier introuvable : {old_path}\")\n",
    "\n",
    "print(\"✅ Renommage terminé.\")"
   ]
  },
  {
   "cell_type": "code",
   "execution_count": 4,
   "id": "61c7ef5d",
   "metadata": {},
   "outputs": [
    {
     "name": "stdout",
     "output_type": "stream",
     "text": [
      "✅ Fichier 'images_data.js' généré.\n"
     ]
    }
   ],
   "source": [
    "import pandas as pd\n",
    "\n",
    "def js_escape(s):\n",
    "    if pd.isna(s):\n",
    "        return \"\"\n",
    "    # Si s est un float entier (ex: 1628.0), le convertir en int puis en str\n",
    "    if isinstance(s, float) and s.is_integer():\n",
    "        s = int(s)\n",
    "    return str(s).replace('\"', '\\\\\"')\n",
    "\n",
    "df = pd.read_csv('data_encrypted.csv', delimiter=';')\n",
    "\n",
    "images_js_entries = []\n",
    "\n",
    "for _, row in df.iterrows():\n",
    "    img_path = f\"{row['style']}/{row['encrypted_name']}\"\n",
    "    entry = (\n",
    "        '{'\n",
    "        f'src:\"images/{js_escape(img_path)}\", '\n",
    "        f'style:\"{js_escape(row[\"style\"])}\", '\n",
    "        f'artist:\"{js_escape(row[\"artist\"])}\", '\n",
    "        f'title:\"{js_escape(row[\"title\"])}\", '\n",
    "        f'year:\"{js_escape(row[\"year\"])}\"'\n",
    "        '}'\n",
    "    )\n",
    "    images_js_entries.append(entry)\n",
    "\n",
    "js_code = \"const images = [\\n\" + \",\\n\".join(images_js_entries) + \"\\n];\"\n",
    "\n",
    "with open(\"images_data.js\", \"w\", encoding=\"utf-8\") as f:\n",
    "    f.write(js_code)\n",
    "\n",
    "print(\"✅ Fichier 'images_data.js' généré.\")\n"
   ]
  },
  {
   "cell_type": "code",
   "execution_count": 4,
   "id": "b7a09cb6",
   "metadata": {},
   "outputs": [
    {
     "name": "stdout",
     "output_type": "stream",
     "text": [
      "✅ Copié 20 fichiers dans /home/phusson/Bureau/Erriep56.github.io/images\n"
     ]
    }
   ],
   "source": [
    "import os\n",
    "import random\n",
    "import shutil\n",
    "\n",
    "ART_STYLES = [\n",
    "    \"Baroque\", \"Early_Renaissance\", \"High_Renaissance\",\n",
    "    \"Mannerism_Late_Renaissance\", \"Northern_Renaissance\", \"Rococo\"\n",
    "]\n",
    "\n",
    "source_dir = '/home/phusson/Bureau/images_wikiart/'\n",
    "dest_dir = f'{os.getcwd()}/images'\n",
    "\n",
    "os.makedirs(dest_dir, exist_ok=True)\n",
    "\n",
    "for style in ART_STYLES:\n",
    "    source_dir_style = os.path.join(source_dir, style)\n",
    "    dest_dir_style = os.path.join(dest_dir, style)\n",
    "    os.makedirs(dest_dir_style, exist_ok=True)\n",
    "    # Liste tous les fichiers dans source_dir\n",
    "    files = [f for f in os.listdir(source_dir_style) if os.path.isfile(os.path.join(source_dir_style, f))]\n",
    "\n",
    "    # Choisit 20 fichiers au hasard (ou moins si moins de 20)\n",
    "    sample_files = random.sample(files, min(20, len(files)))\n",
    "\n",
    "    for f in sample_files:\n",
    "        shutil.copy2(os.path.join(source_dir_style, f), os.path.join(dest_dir_style, f))\n",
    "\n",
    "print(f\"✅ Copié {len(sample_files)} fichiers dans {dest_dir}\")\n"
   ]
  },
  {
   "cell_type": "code",
   "execution_count": 2,
   "id": "ededd338",
   "metadata": {},
   "outputs": [
    {
     "name": "stdout",
     "output_type": "stream",
     "text": [
      "/home/phusson/Bureau/Erriep56.github.io/images\n"
     ]
    }
   ],
   "source": [
    "import os\n",
    "dest_dir = f'{os.getcwd()}/images'\n",
    "print(dest_dir)"
   ]
  }
 ],
 "metadata": {
  "kernelspec": {
   "display_name": ".venv",
   "language": "python",
   "name": "python3"
  },
  "language_info": {
   "codemirror_mode": {
    "name": "ipython",
    "version": 3
   },
   "file_extension": ".py",
   "mimetype": "text/x-python",
   "name": "python",
   "nbconvert_exporter": "python",
   "pygments_lexer": "ipython3",
   "version": "3.12.3"
  }
 },
 "nbformat": 4,
 "nbformat_minor": 5
}
